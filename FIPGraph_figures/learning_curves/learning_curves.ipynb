{
 "cells": [
  {
   "cell_type": "code",
   "execution_count": null,
   "metadata": {},
   "outputs": [],
   "source": [
    "import seaborn as sns\n",
    "import pandas as pd\n",
    "import matplotlib.pyplot as plt\n",
    "import matplotlib\n",
    "import matplotlib.cm as cm\n",
    "import numpy as np\n",
    "\n",
    "font = {# 'family' : 'Times New Roman',\n",
    "        # 'weight' : 'bold',\n",
    "        'size'   : 10}\n",
    "\n",
    "matplotlib.rc('font', **font)"
   ]
  },
  {
   "cell_type": "code",
   "execution_count": null,
   "metadata": {},
   "outputs": [],
   "source": [
    "def plot_loss(ns,ks,start=0, end=2000):\n",
    "\n",
    "    assert(len(ns) == len(ks))\n",
    "\n",
    "    for i in range(len(ns)):\n",
    "        n = ns[i]; k = ks[i]\n",
    "\n",
    "        f = open(f'30_frac90_30_frac10_n_{n}_k_{k}_10000_avg.csv'); lines = f.readlines(); f.close()\n",
    "        \n",
    "        XX = []\n",
    "        YY1 = []\n",
    "        YY2 = []\n",
    "        YY1_tmp = 100\n",
    "        YY2_tmp = 100\n",
    "        for line in lines[start+3:end]:\n",
    "            epoch, train_loss, val_loss, val_meanARE = map(float,line.split(','))\n",
    "\n",
    "            # if (train_loss < YY1_tmp*1.01) and (val_loss < YY2_tmp*1.01):\n",
    "            XX.append(epoch)\n",
    "            # if case == 'train':\n",
    "            YY1.append(train_loss)\n",
    "            # elif case == 'val':\n",
    "            YY2.append(val_loss)\n",
    "            YY1_tmp = train_loss\n",
    "            YY2_tmp = val_loss\n",
    "\n",
    "\n",
    "        XX = np.array(XX)\n",
    "        YY1 = np.array(YY1)\n",
    "        YY2 = np.array(YY2)\n",
    "\n",
    "        # return XX, YY\n",
    "        # if case == 'train':\n",
    "        plt.plot(XX, YY1, '-', label=f'n={n},k={k},train', color=cm.hsv((i+1)/len(ns)))\n",
    "        # elif case == 'val':\n",
    "        plt.plot(XX, YY2, '--', label=f'n={n},k={k},validation', color=cm.hsv((i+1)/len(ns)))\n",
    "    plt.xlabel('Epochs')\n",
    "    plt.ylabel('MSE loss')  \n",
    "    plt.legend(loc='upper left',bbox_to_anchor=(1, 1))\n",
    "    # plt.xticks([0,1000,2000,3000,4000,5000,6000,7000,8000,9000,10000])\n",
    "\n"
   ]
  },
  {
   "cell_type": "code",
   "execution_count": null,
   "metadata": {},
   "outputs": [],
   "source": []
  },
  {
   "cell_type": "code",
   "execution_count": null,
   "metadata": {},
   "outputs": [],
   "source": [
    "ns = [1,1,1,1,1]# 2,2,2,2,2,4,4,4,4,4,8,8,8,8,8,16,16,16,16,32,32,32,32]\n",
    "ks = [1,2,3,4,5]# 1,2,3,4,5,1,2,3,4,5,1,2,3,4,5, 1, 2, 3, 4, 1, 2, 3, 4]\n",
    "plot_loss(ns,ks,10)\n",
    "\n"
   ]
  },
  {
   "cell_type": "code",
   "execution_count": null,
   "metadata": {},
   "outputs": [],
   "source": [
    "ns = [1,1,1,1,1]# 2,2,2,2,2,4,4,4,4,4,8,8,8,8,8,16,16,16,16,32,32,32,32]\n",
    "ks = [1,2,3,4,5]# 1,2,3,4,5,1,2,3,4,5,1,2,3,4,5, 1, 2, 3, 4, 1, 2, 3, 4]\n",
    "plot_loss(ns,ks,200)\n",
    "\n"
   ]
  },
  {
   "cell_type": "code",
   "execution_count": null,
   "metadata": {},
   "outputs": [],
   "source": [
    "ns = [2,2,2,2,2]# 2,2,2,2,2,4,4,4,4,4,8,8,8,8,8,16,16,16,16,32,32,32,32]\n",
    "ks = [1,2,3,4,5]# 1,2,3,4,5,1,2,3,4,5,1,2,3,4,5, 1, 2, 3, 4, 1, 2, 3, 4]\n",
    "plot_loss(ns,ks,10)\n",
    "\n"
   ]
  },
  {
   "cell_type": "code",
   "execution_count": null,
   "metadata": {},
   "outputs": [],
   "source": [
    "ns = [2,2,2,2,2]# 2,2,2,2,2,4,4,4,4,4,8,8,8,8,8,16,16,16,16,32,32,32,32]\n",
    "ks = [1,2,3,4,5]# 1,2,3,4,5,1,2,3,4,5,1,2,3,4,5, 1, 2, 3, 4, 1, 2, 3, 4]\n",
    "plot_loss(ns,ks,100)\n",
    "\n"
   ]
  },
  {
   "cell_type": "code",
   "execution_count": null,
   "metadata": {},
   "outputs": [],
   "source": []
  },
  {
   "cell_type": "code",
   "execution_count": null,
   "metadata": {},
   "outputs": [],
   "source": [
    "ns = [4,4,4,4,4]# 2,2,2,2,2,4,4,4,4,4,8,8,8,8,8,16,16,16,16,32,32,32,32]\n",
    "ks = [1,2,3,4,5]# 1,2,3,4,5,1,2,3,4,5,1,2,3,4,5, 1, 2, 3, 4, 1, 2, 3, 4]\n",
    "plot_loss(ns,ks,10)\n",
    "\n"
   ]
  },
  {
   "cell_type": "code",
   "execution_count": null,
   "metadata": {},
   "outputs": [],
   "source": [
    "ns = [4,4,4,4,4]# 2,2,2,2,2,4,4,4,4,4,8,8,8,8,8,16,16,16,16,32,32,32,32]\n",
    "ks = [1,2,3,4,5]# 1,2,3,4,5,1,2,3,4,5,1,2,3,4,5, 1, 2, 3, 4, 1, 2, 3, 4]\n",
    "plot_loss(ns,ks,100)\n",
    "\n"
   ]
  },
  {
   "cell_type": "code",
   "execution_count": null,
   "metadata": {},
   "outputs": [],
   "source": [
    "ns = [4,4,4,4,4]# 2,2,2,2,2,4,4,4,4,4,8,8,8,8,8,16,16,16,16,32,32,32,32]\n",
    "ks = [1,2,3,4,5]# 1,2,3,4,5,1,2,3,4,5,1,2,3,4,5, 1, 2, 3, 4, 1, 2, 3, 4]\n",
    "plot_loss(ns,ks,1275,1300)\n",
    "\n"
   ]
  },
  {
   "cell_type": "code",
   "execution_count": null,
   "metadata": {},
   "outputs": [],
   "source": []
  },
  {
   "cell_type": "code",
   "execution_count": null,
   "metadata": {},
   "outputs": [],
   "source": [
    "ns = [8,8,8,8,8]# 2,2,2,2,2,4,4,4,4,4,8,8,8,8,8,16,16,16,16,32,32,32,32]\n",
    "ks = [1,2,3,4,5]# 1,2,3,4,5,1,2,3,4,5,1,2,3,4,5, 1, 2, 3, 4, 1, 2, 3, 4]\n",
    "plot_loss(ns,ks,10)\n",
    "\n"
   ]
  },
  {
   "cell_type": "code",
   "execution_count": null,
   "metadata": {},
   "outputs": [],
   "source": [
    "ns = [8,8,8,8,8]# 2,2,2,2,2,4,4,4,4,4,8,8,8,8,8,16,16,16,16,32,32,32,32]\n",
    "ks = [1,2,3,4,5]# 1,2,3,4,5,1,2,3,4,5,1,2,3,4,5, 1, 2, 3, 4, 1, 2, 3, 4]\n",
    "plot_loss(ns,ks,100)\n",
    "\n"
   ]
  },
  {
   "cell_type": "code",
   "execution_count": null,
   "metadata": {},
   "outputs": [],
   "source": [
    "ns = [16,16,16,16,16]# 2,2,2,2,2,4,4,4,4,4,8,8,8,8,8,16,16,16,16,32,32,32,32]\n",
    "ks = [1,2,3,4,5]# 1,2,3,4,5,1,2,3,4,5,1,2,3,4,5, 1, 2, 3, 4, 1, 2, 3, 4]\n",
    "plot_loss(ns,ks,10)\n",
    "\n"
   ]
  },
  {
   "cell_type": "code",
   "execution_count": null,
   "metadata": {},
   "outputs": [],
   "source": [
    "ns = [16,16,16,16,16]# 2,2,2,2,2,4,4,4,4,4,8,8,8,8,8,16,16,16,16,32,32,32,32]\n",
    "ks = [1,2,3,4,5]# 1,2,3,4,5,1,2,3,4,5,1,2,3,4,5, 1, 2, 3, 4, 1, 2, 3, 4]\n",
    "plot_loss(ns,ks,100)\n",
    "\n"
   ]
  },
  {
   "cell_type": "code",
   "execution_count": null,
   "metadata": {},
   "outputs": [],
   "source": []
  },
  {
   "cell_type": "code",
   "execution_count": null,
   "metadata": {},
   "outputs": [],
   "source": [
    "ns = [32,32,32,32,32]# 2,2,2,2,2,4,4,4,4,4,8,8,8,8,8,16,16,16,16,32,32,32,32]\n",
    "ks = [1,2,3,4,5]# 1,2,3,4,5,1,2,3,4,5,1,2,3,4,5, 1, 2, 3, 4, 1, 2, 3, 4]\n",
    "plot_loss(ns,ks,1)\n",
    "\n"
   ]
  },
  {
   "cell_type": "code",
   "execution_count": null,
   "metadata": {},
   "outputs": [],
   "source": [
    "ns = [32,32,32,32,32]# 2,2,2,2,2,4,4,4,4,4,8,8,8,8,8,16,16,16,16,32,32,32,32]\n",
    "ks = [1,2,3,4,5]# 1,2,3,4,5,1,2,3,4,5,1,2,3,4,5, 1, 2, 3, 4, 1, 2, 3, 4]\n",
    "plot_loss(ns,ks,100)\n",
    "\n"
   ]
  },
  {
   "cell_type": "code",
   "execution_count": null,
   "metadata": {},
   "outputs": [],
   "source": []
  }
 ],
 "metadata": {
  "kernelspec": {
   "display_name": "Marat_Arizona",
   "language": "python",
   "name": "python3"
  },
  "language_info": {
   "codemirror_mode": {
    "name": "ipython",
    "version": 3
   },
   "file_extension": ".py",
   "mimetype": "text/x-python",
   "name": "python",
   "nbconvert_exporter": "python",
   "pygments_lexer": "ipython3",
   "version": "3.8.18"
  }
 },
 "nbformat": 4,
 "nbformat_minor": 2
}
