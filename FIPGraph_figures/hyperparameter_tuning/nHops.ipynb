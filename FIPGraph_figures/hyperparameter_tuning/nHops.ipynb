{
 "cells": [
  {
   "cell_type": "code",
   "execution_count": null,
   "metadata": {},
   "outputs": [],
   "source": [
    "import seaborn as sns\n",
    "import pandas as pd\n",
    "import matplotlib.pyplot as plt\n",
    "import matplotlib\n",
    "import matplotlib.cm as cm"
   ]
  },
  {
   "cell_type": "code",
   "execution_count": null,
   "metadata": {},
   "outputs": [],
   "source": [
    "matplotlib.rcParams.update(matplotlib.rcParamsDefault)\n",
    "font = {# 'family' : 'Times New Roman',\n",
    "        # 'weight' : 'bold',\n",
    "        'size'   : 15}\n",
    "\n",
    "matplotlib.rc('font', **font)"
   ]
  },
  {
   "cell_type": "code",
   "execution_count": null,
   "metadata": {},
   "outputs": [],
   "source": [
    "data = pd.read_excel('num_of_neighbors.xlsx', sheet_name='Sheet2')\n",
    "\n",
    "\n",
    "plt.figure(figsize=(10,10))\n",
    "\n",
    "for i, n in enumerate([32, 2, 4, 8, 16]):\n",
    "\n",
    "    mask = (data['n'] == n)\n",
    "    data_valid = data[mask]\n",
    "\n",
    "\n",
    "    ax = sns.boxplot(x = data_valid['k'], \n",
    "                y = data_valid['MSELoss'],\n",
    "                color=cm.hsv((i+1)/5),\n",
    "                showfliers = False,\n",
    "                linewidth=1.5)\n",
    "    ax.set_label(f'n={n}')\n",
    "    # p.set_label(n)\n",
    "    # plt.plot(label=n)\n",
    "\n",
    "    # plt.title(f'n={n}')\n",
    "# handles, _ = ax.get_legend_handles_labels()          # Get the artists.\n",
    "# ax.legend(handles, [\"label1\", \"label2\"], loc=\"best\") # Associate manually the artists to a label.\n",
    "ax.set_ylabel('MSE loss')\n",
    "# ax.legend()\n",
    "plt.show()"
   ]
  },
  {
   "cell_type": "code",
   "execution_count": null,
   "metadata": {},
   "outputs": [],
   "source": [
    "data = pd.read_excel('num_of_neighbors.xlsx', sheet_name='Sheet2')\n",
    "\n",
    "\n",
    "# plt.figure(figsize=(10,10))\n",
    "\n",
    "for i, n in enumerate([4, 8, 16]):\n",
    "\n",
    "    mask = (data['n'] == n)\n",
    "    data_valid = data[mask]\n",
    "\n",
    "\n",
    "    ax = sns.boxplot(x = data_valid['k'], \n",
    "                y = data_valid['MSELoss'],\n",
    "                color=cm.hsv((i+1)/3),\n",
    "                showfliers = False,\n",
    "                linewidth=1.5)\n",
    "    ax.set_label(f'n={n}')\n",
    "    # p.set_label(n)\n",
    "    # plt.plot(label=n)\n",
    "\n",
    "    # plt.title(f'n={n}')\n",
    "# handles, _ = ax.get_legend_handles_labels()          # Get the artists.\n",
    "# ax.legend(handles, [\"label1\", \"label2\"], loc=\"best\") # Associate manually the artists to a label.\n",
    "# ax.legend()\n",
    "ax.set_ylabel('MSE loss')\n",
    "plt.show()"
   ]
  },
  {
   "cell_type": "code",
   "execution_count": null,
   "metadata": {},
   "outputs": [],
   "source": [
    "data = pd.read_excel('num_of_neighbors.xlsx', sheet_name='Sheet2')\n",
    "\n",
    "n = 4\n",
    "\n",
    "mask = (data['n'] == n)\n",
    "data_valid = data[mask]\n",
    "\n",
    "\n",
    "plt.figure(figsize=(10,10))\n",
    "\n",
    "sns.boxplot(x = data_valid['k'], \n",
    "            y = data_valid['MSELoss'],\n",
    "            color='white')\n",
    "\n",
    "plt.title(f'n={n}')"
   ]
  },
  {
   "cell_type": "code",
   "execution_count": null,
   "metadata": {},
   "outputs": [],
   "source": [
    "data = pd.read_excel('num_of_neighbors.xlsx', sheet_name='Sheet2')\n",
    "\n",
    "n = 8\n",
    "\n",
    "mask = (data['n'] == n)\n",
    "data_valid = data[mask]\n",
    "\n",
    "\n",
    "plt.figure(figsize=(10,10))\n",
    "\n",
    "sns.boxplot(x = data_valid['k'], \n",
    "            y = data_valid['MSELoss'],\n",
    "            color='white')\n",
    "\n",
    "plt.title(f'n={n}')"
   ]
  },
  {
   "cell_type": "code",
   "execution_count": null,
   "metadata": {},
   "outputs": [],
   "source": [
    "data = pd.read_excel('num_of_neighbors.xlsx', sheet_name='Sheet2')\n",
    "\n",
    "n = 16\n",
    "\n",
    "mask = (data['n'] == n)\n",
    "data_valid = data[mask]\n",
    "\n",
    "\n",
    "plt.figure(figsize=(10,10))\n",
    "\n",
    "sns.boxplot(x = data_valid['k'], \n",
    "            y = data_valid['MSELoss'],\n",
    "            color='white')\n",
    "\n",
    "plt.title(f'n={n}')"
   ]
  },
  {
   "cell_type": "code",
   "execution_count": null,
   "metadata": {},
   "outputs": [],
   "source": [
    "data = pd.read_excel('num_of_neighbors.xlsx', sheet_name='Sheet2')\n",
    "\n",
    "n = 2\n",
    "\n",
    "mask = (data['n'] == n)\n",
    "data_valid = data[mask]\n",
    "\n",
    "plt.figure()\n",
    "\n",
    "sns.boxplot(x = data_valid['k'], \n",
    "            y = data_valid['MSELoss'],\n",
    "            color='white')\n",
    "\n",
    "plt.title(f'n={n}')"
   ]
  },
  {
   "cell_type": "code",
   "execution_count": null,
   "metadata": {},
   "outputs": [],
   "source": [
    "sns.boxplot(x = data['k'], \n",
    "            y = data['MSELoss'], \n",
    "            hue = data['n'],\n",
    "            linewidth=0,\n",
    "            showfliers = True)"
   ]
  },
  {
   "cell_type": "code",
   "execution_count": null,
   "metadata": {},
   "outputs": [],
   "source": [
    "data = pd.read_excel('num_of_neighbors.xlsx', sheet_name='Sheet2')\n",
    "\n",
    "plt.figure(figsize=(20,20))\n",
    "sns.boxplot(x = data['k'], \n",
    "            y = data['MSELoss'], \n",
    "            hue = data['n'],\n",
    "            linewidth=0.5,\n",
    "            showfliers = False)"
   ]
  },
  {
   "cell_type": "code",
   "execution_count": null,
   "metadata": {},
   "outputs": [],
   "source": [
    "sns.boxplot(x = data['k'], \n",
    "            y = data['MSELoss'], \n",
    "            hue = data['n'],\n",
    "            linewidth=0,\n",
    "            showfliers = False)"
   ]
  },
  {
   "cell_type": "code",
   "execution_count": null,
   "metadata": {},
   "outputs": [],
   "source": [
    "mask = (data['n'] != 2)\n",
    "data_valid = data[mask]\n",
    "\n",
    "sns.boxplot(x = data_valid['k'], \n",
    "            y = data_valid['MSELoss'], \n",
    "            hue = data_valid['n'],\n",
    "            linewidth=0,\n",
    "            showfliers = False)"
   ]
  },
  {
   "cell_type": "code",
   "execution_count": null,
   "metadata": {},
   "outputs": [],
   "source": [
    "data = pd.read_excel('num_of_neighbors.xlsx', sheet_name='Sheet2')\n",
    "\n",
    "mask = (data['n'] != 2)\n",
    "data = data[mask]\n",
    "mask = (data['k'] != 7)\n",
    "data = data[mask]\n",
    "\n",
    "\n",
    "\n",
    "my_colors = [\"#a7d479\",     # (167,212,121)\n",
    "             \"#fdd28e\",\n",
    "             \"#ecc5f4\",     # (236,197,244)\n",
    "             \"#ff928f\",     # (255,146,143)\n",
    "             \"#a2e0df\",]    # (162,224,223)\n",
    "sns.set_palette( my_colors ) \n",
    "\n",
    "plt.figure(figsize=(7,8))\n",
    "sns.boxplot(x = data['k'], \n",
    "            y = data['MSELoss'], \n",
    "            hue = data['n'],\n",
    "            linewidth=1,\n",
    "            showfliers = False)\n",
    "\n",
    "# plt.plot([-0.5,-0.5],[0.0375,0.0405],'--', color='black')\n",
    "plt.plot([0.5,0.5],[0.0375,0.040],'--', color='gray', alpha=0.5)\n",
    "plt.plot([1.5,1.5],[0.0375,0.040],'--', color='gray', alpha=0.5)\n",
    "plt.plot([2.5,2.5],[0.0375,0.040],'--', color='gray', alpha=0.5)\n",
    "plt.plot([3.5,3.5],[0.0375,0.040],'--', color='gray', alpha=0.5)\n",
    "plt.plot([4.5,4.5],[0.0375,0.040],'--', color='gray', alpha=0.5)\n",
    "plt.plot([5.5,5.5],[0.0375,0.040],'--', color='gray', alpha=0.5)\n",
    "plt.xlim([-0.5,5.5])\n",
    "plt.tick_params(bottom=False)\n",
    "\n",
    "plt.xlabel('Depth of MPL', fontsize=30)\n",
    "plt.ylabel('MSE loss', fontsize=30)\n",
    "\n",
    "plt.legend(loc='upper right', title='n')\n",
    "plt.show()"
   ]
  },
  {
   "cell_type": "code",
   "execution_count": null,
   "metadata": {},
   "outputs": [],
   "source": [
    "data_valid['n']"
   ]
  },
  {
   "cell_type": "code",
   "execution_count": null,
   "metadata": {},
   "outputs": [],
   "source": []
  }
 ],
 "metadata": {
  "kernelspec": {
   "display_name": "Marat_Arizona",
   "language": "python",
   "name": "python3"
  },
  "language_info": {
   "codemirror_mode": {
    "name": "ipython",
    "version": 3
   },
   "file_extension": ".py",
   "mimetype": "text/x-python",
   "name": "python",
   "nbconvert_exporter": "python",
   "pygments_lexer": "ipython3",
   "version": "3.8.18"
  }
 },
 "nbformat": 4,
 "nbformat_minor": 2
}
