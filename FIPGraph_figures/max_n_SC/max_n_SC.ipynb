{
 "cells": [
  {
   "cell_type": "code",
   "execution_count": null,
   "metadata": {},
   "outputs": [],
   "source": [
    "import seaborn as sns\n",
    "import pandas as pd\n",
    "import matplotlib.pyplot as plt\n",
    "import matplotlib\n",
    "import matplotlib.cm as cm\n",
    "import numpy as np\n",
    "import pandas as pd\n",
    "from scipy.stats import kde\n",
    "from sklearn.metrics import r2_score\n",
    "from matplotlib.ticker import StrMethodFormatter\n",
    "from custom_colormaps import create_colormap\n",
    "\n",
    "# plt.gca().yaxis.set_major_formatter(StrMethodFormatter('{x:,.4e}')) # No decimal places\n",
    "\n",
    "# colors = [(167,212,121),\n",
    "#           (236,197,244),\n",
    "#           (255,146,143),\n",
    "#           (162,224,223)] # This example uses the 8-bit RGB\n",
    "\n",
    "colors = [(255,235,245),\n",
    "          (245,213,224),\n",
    "          (200,116,178),\n",
    "          (123,51,125),\n",
    "          (67,13,75),\n",
    "          (33,5,53)\n",
    "          ]\n",
    "my_cmap = create_colormap(colors, bit=True)\n",
    "\n",
    "font = {# 'family' : 'Times New Roman',\n",
    "        # 'weight' : 'bold',\n",
    "        'size'   : 20}\n",
    "\n",
    "# matplotlib.rcParams.update(matplotlib.rcParamsDefault)\n",
    "\n",
    "# plt.rcParams['text.usetex'] = True"
   ]
  },
  {
   "cell_type": "code",
   "execution_count": null,
   "metadata": {},
   "outputs": [],
   "source": [
    "def readXY(fname):\n",
    "    f = open(fname); lines = f.readlines(); f.close()\n",
    "    XX = []\n",
    "    YY = []\n",
    "    for line in lines:\n",
    "        x, y = map(float, line.split(','))\n",
    "        XX.append(x)\n",
    "        YY.append(y)\n",
    "    XX = np.array(XX)\n",
    "    YY = np.array(YY)\n",
    "    return XX, YY"
   ]
  },
  {
   "cell_type": "code",
   "execution_count": null,
   "metadata": {},
   "outputs": [],
   "source": [
    "def undo_scale(XX, mean, std):\n",
    "    return XX*std + mean"
   ]
  },
  {
   "cell_type": "code",
   "execution_count": null,
   "metadata": {},
   "outputs": [],
   "source": [
    "def scatterplot(XX,YY):\n",
    "    # nbins=1000\n",
    "    rangemin, rangemax = min(XX.min(), YY.min())*0.9995, max(XX.max(), YY.max())*1.0005\n",
    "    plt.figure(figsize=(10,10))\n",
    "    plt.scatter(XX, YY, s=10, alpha=0.5)\n",
    "    plt.xlabel(r'$FIP_{CPFEM}$')\n",
    "    plt.ylabel(r'$FIP_{GNN}$')\n",
    "    plt.xlim((rangemin, rangemax))\n",
    "    plt.ylim((rangemin, rangemax))\n",
    "    plt.plot([rangemin, rangemax],[rangemin, rangemax],'--',color='black')\n",
    "    plt.xticks(np.linspace(rangemin,rangemax,5))\n",
    "    plt.yticks(np.linspace(rangemin,rangemax,5))\n",
    "    plt.ticklabel_format(axis='both', style='sci', scilimits=(0,1))\n",
    "    plt.gca().set_box_aspect(1)\n",
    "    plt.title(r\"$R^2$ = \" + str(round(r2_score(XX, YY),4))) #, (100,100), color='white')\n",
    "    plt.show()"
   ]
  },
  {
   "cell_type": "code",
   "execution_count": null,
   "metadata": {},
   "outputs": [],
   "source": [
    "\n",
    "\n",
    "def densityplot(XX, YY, nbins=100):\n",
    "    # nbins=1000\n",
    "    k = kde.gaussian_kde([XX,YY])\n",
    "    rangemin, rangemax = min(XX.min(), YY.min())*1.0, max(XX.max(), YY.max())*1.0\n",
    "    # rangemin, rangemax = 0.308e-3, 5.591e-3\n",
    "    xi, yi = np.mgrid[rangemin:rangemax:nbins*1j, rangemin:rangemax:nbins*1j]\n",
    "    zi = k(np.vstack([xi.flatten(), yi.flatten()]))\n",
    "    plt.figure(figsize=(10,10),facecolor=(255/255,235/255,245/255))\n",
    "    plt.pcolormesh(xi, yi, zi.reshape(xi.shape), shading='auto', cmap=my_cmap)\n",
    "    plt.xlabel(r'$FIP_{CPFEM}$', fontsize=30)\n",
    "    plt.ylabel(r'$FIP_{GNN}$', fontsize=30)\n",
    "    plt.xlim((rangemin, rangemax))\n",
    "    plt.ylim((rangemin, rangemax))\n",
    "    plt.plot([rangemin, rangemax],[rangemin, rangemax],'--',color='white')\n",
    "    plt.xticks(np.linspace(rangemin,rangemax,5))\n",
    "    plt.yticks(np.linspace(rangemin,rangemax,5))\n",
    "    plt.ticklabel_format(axis='both', style='sci', scilimits=(0,1))\n",
    "    plt.gca().set_box_aspect(1)\n",
    "    plt.title(r\"$R^2$ = \" + str(round(r2_score(XX, YY),4))) #, (100,100), color='white')\n",
    "    plt.show()"
   ]
  },
  {
   "cell_type": "code",
   "execution_count": null,
   "metadata": {},
   "outputs": [],
   "source": [
    "def densityplot2(XX, YY):\n",
    "    # nbins=1000\n",
    "    xy = np.vstack([XX, YY])\n",
    "    z = kde.gaussian_kde(xy)(xy)\n",
    "    # k = kde.gaussian_kde([XX,YY])\n",
    "    rangemin, rangemax = min(XX.min(), YY.min())*1.0, max(XX.max(), YY.max())*1.0\n",
    "    # rangemin, rangemax = 0.308e-3, 5.591e-3\n",
    "    # xi, yi = np.mgrid[rangemin:rangemax:nbins*1j, rangemin:rangemax:nbins*1j]\n",
    "    # zi = k(np.vstack([xi.flatten(), yi.flatten()]))\n",
    "    plt.figure(figsize=(10,10))\n",
    "    plt.scatter(XX, YY, c=z, s=5, cmap=my_cmap)\n",
    "    \n",
    "    cb = plt.colorbar(shrink = 0.5,ticks=[np.min(z), np.max(z)])\n",
    "    cb.ax.set_yticklabels(['Low', 'High'])\n",
    "    plt.xlabel(r'$FIP_{CPFEM}$', fontsize=30)\n",
    "    plt.ylabel(r'$FIP_{GNN}$', fontsize=30)\n",
    "    plt.xlim((rangemin, rangemax))\n",
    "    plt.ylim((rangemin, rangemax))\n",
    "    plt.plot([rangemin, rangemax],[rangemin, rangemax],'--',color='black')\n",
    "    plt.xticks(np.linspace(rangemin,rangemax,5))\n",
    "    plt.yticks(np.linspace(rangemin,rangemax,5))\n",
    "    plt.ticklabel_format(axis='both', style='sci', scilimits=(0,1))\n",
    "    plt.gca().set_box_aspect(1)\n",
    "    plt.title(r\"$R^2$ = \" + str(round(r2_score(XX, YY),4))) #, (100,100), color='white')\n",
    "    plt.show()\n"
   ]
  },
  {
   "cell_type": "code",
   "execution_count": null,
   "metadata": {},
   "outputs": [],
   "source": [
    "# XX, YY = readXY('max_1_SC_train.csv')\n",
    "# XX = undo_scale(XX,0.00265817,0.0009603592368511412)\n",
    "# YY = undo_scale(YY,0.00265817,0.0009603592368511412)\n",
    "# scatterplot(XX, YY)"
   ]
  },
  {
   "cell_type": "code",
   "execution_count": null,
   "metadata": {},
   "outputs": [],
   "source": [
    "XX, YY = readXY('max_1_SC_train.csv')\n",
    "XX = undo_scale(XX,0.00265817,0.0009603592368511412)\n",
    "YY = undo_scale(YY,0.00265817,0.0009603592368511412)\n",
    "densityplot(XX, YY)"
   ]
  },
  {
   "cell_type": "code",
   "execution_count": null,
   "metadata": {},
   "outputs": [],
   "source": [
    "XX, YY = readXY('max_1_SC_train.csv')\n",
    "XX = undo_scale(XX,0.00265817,0.0009603592368511412)\n",
    "YY = undo_scale(YY,0.00265817,0.0009603592368511412)\n",
    "densityplot2(XX, YY)"
   ]
  },
  {
   "cell_type": "code",
   "execution_count": null,
   "metadata": {},
   "outputs": [],
   "source": [
    "# XX, YY = readXY('max_2_SC_train.csv')\n",
    "# XX = undo_scale(XX,0.00265817,0.0009603592368511412)\n",
    "# YY = undo_scale(YY,0.00265817,0.0009603592368511412)\n",
    "# scatterplot(XX, YY)"
   ]
  },
  {
   "cell_type": "code",
   "execution_count": null,
   "metadata": {},
   "outputs": [],
   "source": [
    "XX, YY = readXY('max_2_SC_train.csv')\n",
    "XX = undo_scale(XX,0.00265817,0.0009603592368511412)\n",
    "YY = undo_scale(YY,0.00265817,0.0009603592368511412)\n",
    "densityplot(XX, YY)"
   ]
  },
  {
   "cell_type": "code",
   "execution_count": null,
   "metadata": {},
   "outputs": [],
   "source": [
    "XX, YY = readXY('max_2_SC_train.csv')\n",
    "XX = undo_scale(XX,0.00265817,0.0009603592368511412)\n",
    "YY = undo_scale(YY,0.00265817,0.0009603592368511412)\n",
    "densityplot2(XX, YY)"
   ]
  },
  {
   "cell_type": "code",
   "execution_count": null,
   "metadata": {},
   "outputs": [],
   "source": [
    "# XX, YY = readXY('max_3_SC_train.csv')\n",
    "# XX = undo_scale(XX,0.00265817,0.0009603592368511412)\n",
    "# YY = undo_scale(YY,0.00265817,0.0009603592368511412)\n",
    "# scatterplot(XX, YY)"
   ]
  },
  {
   "cell_type": "code",
   "execution_count": null,
   "metadata": {},
   "outputs": [],
   "source": [
    "XX, YY = readXY('max_3_SC_train.csv')\n",
    "XX = undo_scale(XX,0.00265817,0.0009603592368511412)\n",
    "YY = undo_scale(YY,0.00265817,0.0009603592368511412)\n",
    "densityplot(XX, YY)"
   ]
  },
  {
   "cell_type": "code",
   "execution_count": null,
   "metadata": {},
   "outputs": [],
   "source": [
    "XX, YY = readXY('max_3_SC_train.csv')\n",
    "XX = undo_scale(XX,0.00265817,0.0009603592368511412)\n",
    "YY = undo_scale(YY,0.00265817,0.0009603592368511412)\n",
    "densityplot2(XX, YY)"
   ]
  },
  {
   "cell_type": "code",
   "execution_count": null,
   "metadata": {},
   "outputs": [],
   "source": [
    "# XX, YY = readXY('max_1_SC_val.csv')\n",
    "# XX = undo_scale(XX,0.00265817,0.0009603592368511412)\n",
    "# YY = undo_scale(YY,0.00265817,0.0009603592368511412)\n",
    "# scatterplot(XX, YY)"
   ]
  },
  {
   "cell_type": "code",
   "execution_count": null,
   "metadata": {},
   "outputs": [],
   "source": [
    "XX, YY = readXY('max_1_SC_val.csv')\n",
    "XX = undo_scale(XX,0.00265817,0.0009603592368511412)\n",
    "YY = undo_scale(YY,0.00265817,0.0009603592368511412)\n",
    "densityplot(XX, YY)"
   ]
  },
  {
   "cell_type": "code",
   "execution_count": null,
   "metadata": {},
   "outputs": [],
   "source": [
    "XX, YY = readXY('max_1_SC_val.csv')\n",
    "XX = undo_scale(XX,0.00265817,0.0009603592368511412)\n",
    "YY = undo_scale(YY,0.00265817,0.0009603592368511412)\n",
    "densityplot2(XX, YY)"
   ]
  },
  {
   "cell_type": "code",
   "execution_count": null,
   "metadata": {},
   "outputs": [],
   "source": [
    "# XX, YY = readXY('max_2_SC_val.csv')\n",
    "# XX = undo_scale(XX,0.00265817,0.0009603592368511412)\n",
    "# YY = undo_scale(YY,0.00265817,0.0009603592368511412)\n",
    "# scatterplot(XX, YY)"
   ]
  },
  {
   "cell_type": "code",
   "execution_count": null,
   "metadata": {},
   "outputs": [],
   "source": [
    "XX, YY = readXY('max_2_SC_val.csv')\n",
    "XX = undo_scale(XX,0.00265817,0.0009603592368511412)\n",
    "YY = undo_scale(YY,0.00265817,0.0009603592368511412)\n",
    "densityplot(XX, YY)"
   ]
  },
  {
   "cell_type": "code",
   "execution_count": null,
   "metadata": {},
   "outputs": [],
   "source": [
    "XX, YY = readXY('max_2_SC_val.csv')\n",
    "XX = undo_scale(XX,0.00265817,0.0009603592368511412)\n",
    "YY = undo_scale(YY,0.00265817,0.0009603592368511412)\n",
    "densityplot2(XX, YY)"
   ]
  },
  {
   "cell_type": "code",
   "execution_count": null,
   "metadata": {},
   "outputs": [],
   "source": [
    "# XX, YY = readXY('max_3_SC_val.csv')\n",
    "# XX = undo_scale(XX,0.00265817,0.0009603592368511412)\n",
    "# YY = undo_scale(YY,0.00265817,0.0009603592368511412)\n",
    "# scatterplot(XX, YY)"
   ]
  },
  {
   "cell_type": "code",
   "execution_count": null,
   "metadata": {},
   "outputs": [],
   "source": [
    "XX, YY = readXY('max_3_SC_val.csv')\n",
    "XX = undo_scale(XX,0.00265817,0.0009603592368511412)\n",
    "YY = undo_scale(YY,0.00265817,0.0009603592368511412)\n",
    "densityplot(XX, YY)"
   ]
  },
  {
   "cell_type": "code",
   "execution_count": null,
   "metadata": {},
   "outputs": [],
   "source": [
    "XX, YY = readXY('max_3_SC_val.csv')\n",
    "XX = undo_scale(XX,0.00265817,0.0009603592368511412)\n",
    "YY = undo_scale(YY,0.00265817,0.0009603592368511412)\n",
    "densityplot2(XX, YY)"
   ]
  },
  {
   "cell_type": "code",
   "execution_count": null,
   "metadata": {},
   "outputs": [],
   "source": [
    "XX, YY = readXY('max_12_SC_val.csv')\n",
    "XX = undo_scale(XX,0.00265817,0.0009603592368511412)\n",
    "YY = undo_scale(YY,0.00265817,0.0009603592368511412)\n",
    "densityplot2(XX, YY)"
   ]
  },
  {
   "cell_type": "code",
   "execution_count": null,
   "metadata": {},
   "outputs": [],
   "source": [
    "XX, YY = readXY('max_12_SC_train.csv')\n",
    "XX = undo_scale(XX,0.00265817,0.0009603592368511412)\n",
    "YY = undo_scale(YY,0.00265817,0.0009603592368511412)\n",
    "densityplot2(XX, YY)"
   ]
  },
  {
   "cell_type": "code",
   "execution_count": null,
   "metadata": {},
   "outputs": [],
   "source": []
  },
  {
   "cell_type": "code",
   "execution_count": null,
   "metadata": {},
   "outputs": [],
   "source": []
  }
 ],
 "metadata": {
  "kernelspec": {
   "display_name": "Marat_Arizona",
   "language": "python",
   "name": "python3"
  },
  "language_info": {
   "codemirror_mode": {
    "name": "ipython",
    "version": 3
   },
   "file_extension": ".py",
   "mimetype": "text/x-python",
   "name": "python",
   "nbconvert_exporter": "python",
   "pygments_lexer": "ipython3",
   "version": "3.8.18"
  }
 },
 "nbformat": 4,
 "nbformat_minor": 2
}
