{
 "cells": [
  {
   "cell_type": "code",
   "execution_count": null,
   "metadata": {},
   "outputs": [],
   "source": [
    "import seaborn as sns\n",
    "import pandas as pd\n",
    "import matplotlib.pyplot as plt\n",
    "import matplotlib\n",
    "import matplotlib.cm as cm\n",
    "import numpy as np\n",
    "import pandas as pd\n",
    "from scipy.stats import kde\n",
    "from sklearn.metrics import r2_score\n",
    "from matplotlib.ticker import StrMethodFormatter\n",
    "\n",
    "# plt.gca().yaxis.set_major_formatter(StrMethodFormatter('{x:,.4e}')) # No decimal places\n",
    "\n",
    "matplotlib.rcParams.update(matplotlib.rcParamsDefault)\n",
    "font = {# 'family' : 'Times New Roman',\n",
    "        # 'weight' : 'bold',\n",
    "        'size'   : 15}\n",
    "\n",
    "matplotlib.rc('font', **font)\n",
    "\n",
    "\n",
    "# plt.rcParams['text.usetex'] = True"
   ]
  },
  {
   "cell_type": "code",
   "execution_count": null,
   "metadata": {},
   "outputs": [],
   "source": [
    "def readXY(fname):\n",
    "    f = open(fname); lines = f.readlines(); f.close()\n",
    "    XX = []\n",
    "    YY = []\n",
    "    for line in lines:\n",
    "        x, y = map(float, line.split(','))\n",
    "        XX.append(x)\n",
    "        YY.append(y)\n",
    "    XX = np.array(XX)\n",
    "    YY = np.array(YY)\n",
    "    return XX, YY"
   ]
  },
  {
   "cell_type": "code",
   "execution_count": null,
   "metadata": {},
   "outputs": [],
   "source": [
    "def undo_scale(XX, mean, std):\n",
    "    return XX*std + mean"
   ]
  },
  {
   "cell_type": "code",
   "execution_count": null,
   "metadata": {},
   "outputs": [],
   "source": [
    "def get_errors(texture):\n",
    "    XX, YY = readXY(f'predict_{texture}.csv')\n",
    "    XX = undo_scale(XX,0.00265817,0.0009603592368511412)\n",
    "    YY = undo_scale(YY, 0.00265817,0.0009603592368511412)\n",
    "    return XX-YY\n"
   ]
  },
  {
   "cell_type": "code",
   "execution_count": null,
   "metadata": {},
   "outputs": [],
   "source": [
    "def get_abs_errors(texture):\n",
    "    XX, YY = readXY(f'predict_{texture}.csv')\n",
    "    XX = undo_scale(XX,0.00265817,0.0009603592368511412)\n",
    "    YY = undo_scale(YY, 0.00265817,0.0009603592368511412)\n",
    "    return np.abs(XX-YY)\n"
   ]
  },
  {
   "cell_type": "code",
   "execution_count": null,
   "metadata": {},
   "outputs": [],
   "source": [
    "def get_rel_errors(texture):\n",
    "    XX, YY = readXY(f'predict_{texture}.csv')\n",
    "    XX = undo_scale(XX,0.00265817,0.0009603592368511412)\n",
    "    YY = undo_scale(YY, 0.00265817,0.0009603592368511412)\n",
    "    return np.abs(np.abs(XX-YY)/XX)*100.0\n"
   ]
  },
  {
   "cell_type": "code",
   "execution_count": null,
   "metadata": {},
   "outputs": [],
   "source": [
    "f = open('errordatafile.csv','w')\n",
    "f.write('texture,error\\n')\n",
    "for texture in [30,45,90,160,200,250]:\n",
    "    errors = get_errors(texture)\n",
    "    for error in errors:\n",
    "        f.write(f'{texture},{error}\\n')\n",
    "f.close()\n"
   ]
  },
  {
   "cell_type": "code",
   "execution_count": null,
   "metadata": {},
   "outputs": [],
   "source": [
    "# my_colors = [\"#f0ceff\",     # (240, 206, 255)\n",
    "#              \"#e1affd\",     # (225, 175, 253)\n",
    "#              \"#ca8dfd\",     # (202, 141, 253)\n",
    "#              \"#c175ff\",     # (193, 117, 255)\n",
    "#              \"#b042ff\",     # (176, 66, 255)\n",
    "#              \"#9300ff\"]     # (147, 0, 255)\n",
    "\n",
    "my_colors = [\"#a7d479\",     # (167,212,121)\n",
    "             \"#fdd28e\",\n",
    "             \"#ecc5f4\",     # (236,197,244)\n",
    "             \"#ff928f\",     # (255,146,143)\n",
    "             \"#a2e0df\",]    # (162,224,223)\n",
    "sns.set_palette( my_colors ) \n",
    "\n",
    "data = pd.read_csv('errordatafile.csv')\n",
    "# mask = (data['texture'] != 160)\n",
    "# data = data[mask]\n",
    "sns.boxplot(x = data['texture'], \n",
    "            y = data['error'], \n",
    "            linewidth=1,\n",
    "            showfliers = False)\n",
    "plt.xlabel('SVE size')\n",
    "plt.ylabel(r'$FIP_{CPFEM} - FIP_{GNN}$')\n",
    "plt.show()"
   ]
  },
  {
   "cell_type": "code",
   "execution_count": null,
   "metadata": {},
   "outputs": [],
   "source": [
    "print(np.average(data[data.texture == 30]['error']))\n",
    "print(np.std(data[data.texture == 30]['error']))\n",
    "print()\n",
    "print(np.average(data[data.texture == 45]['error']))\n",
    "print(np.std(data[data.texture == 45]['error']))\n",
    "print()\n",
    "print(np.average(data[data.texture == 90]['error']))\n",
    "print(np.std(data[data.texture == 90]['error']))\n",
    "print()\n",
    "print(np.average(data[data.texture == 160]['error']))\n",
    "print(np.std(data[data.texture == 160]['error']))\n",
    "print()\n",
    "print(np.average(data[data.texture == 200]['error']))\n",
    "print(np.std(data[data.texture == 200]['error']))\n",
    "print()\n",
    "print(np.average(data[data.texture == 250]['error']))\n",
    "print(np.std(data[data.texture == 250]['error']))\n",
    "print()"
   ]
  },
  {
   "cell_type": "code",
   "execution_count": null,
   "metadata": {},
   "outputs": [],
   "source": [
    "f = open('abserrordatafile.csv','w')\n",
    "f.write('texture,absolute error\\n')\n",
    "for texture in [30,45,90,160,200,250]:\n",
    "    errors = get_abs_errors(texture)\n",
    "    for error in errors:\n",
    "        f.write(f'{texture},{error}\\n')\n",
    "f.close()\n"
   ]
  },
  {
   "cell_type": "code",
   "execution_count": null,
   "metadata": {},
   "outputs": [],
   "source": [
    "# my_colors = [\"#f0ceff\",     # (240, 206, 255)\n",
    "#              \"#e1affd\",     # (225, 175, 253)\n",
    "#              \"#ca8dfd\",     # (202, 141, 253)\n",
    "#              \"#c175ff\",     # (193, 117, 255)\n",
    "#              \"#b042ff\",     # (176, 66, 255)\n",
    "#              \"#9300ff\"]     # (147, 0, 255)\n",
    "\n",
    "my_colors = [\"#a7d479\",     # (167,212,121)\n",
    "             \"#fdd28e\",\n",
    "             \"#ecc5f4\",     # (236,197,244)\n",
    "             \"#ff928f\",     # (255,146,143)\n",
    "             \"#a2e0df\",]    # (162,224,223)\n",
    "sns.set_palette( my_colors ) \n",
    "\n",
    "data = pd.read_csv('abserrordatafile.csv')\n",
    "# mask = (data['texture'] != 160)\n",
    "# data = data[mask]\n",
    "sns.boxplot(x = data['texture'], \n",
    "            y = data['absolute error'], \n",
    "            linewidth=1,\n",
    "            showfliers = False)\n",
    "plt.xlabel('SVE size')\n",
    "plt.ylabel(r'$|FIP_{CPFEM} - FIP_{GNN}|$')\n",
    "plt.show()"
   ]
  },
  {
   "cell_type": "code",
   "execution_count": null,
   "metadata": {},
   "outputs": [],
   "source": [
    "f = open('relerrordatafile.csv','w')\n",
    "f.write('texture,relative error(%)\\n')\n",
    "for texture in [30,45,90,160,200,250]:\n",
    "    errors = get_rel_errors(texture)\n",
    "    for error in errors:\n",
    "        f.write(f'{texture},{error}\\n')\n",
    "f.close()\n"
   ]
  },
  {
   "cell_type": "code",
   "execution_count": null,
   "metadata": {},
   "outputs": [],
   "source": [
    "my_colors = [\"#a7d479\",     # (167,212,121)\n",
    "             \"#fdd28e\",\n",
    "             \"#ecc5f4\",     # (236,197,244)\n",
    "             \"#ff928f\",     # (255,146,143)\n",
    "             \"#a2e0df\",]    # (162,224,223)\n",
    "sns.set_palette( my_colors ) \n",
    "\n",
    "data = pd.read_csv('relerrordatafile.csv')\n",
    "sns.boxplot(x = data['texture'], \n",
    "            y = data['relative error(%)'], \n",
    "            linewidth=1,\n",
    "            showfliers = False)\n",
    "plt.xlabel('SVE size')\n",
    "plt.ylabel(r'$|\\frac{FIP_{CPFEM} - FIP_{GNN}}{FIP_{CPFEM}}|\\times100$'+'%')\n",
    "plt.show()"
   ]
  },
  {
   "cell_type": "code",
   "execution_count": null,
   "metadata": {},
   "outputs": [],
   "source": [
    "print(np.average(data[data.texture == 30]['relative error(%)']))\n",
    "print(np.std(data[data.texture == 30]['relative error(%)']))\n",
    "print()\n",
    "print(np.average(data[data.texture == 45]['relative error(%)']))\n",
    "print(np.std(data[data.texture == 45]['relative error(%)']))\n",
    "print()\n",
    "print(np.average(data[data.texture == 90]['relative error(%)']))\n",
    "print(np.std(data[data.texture == 90]['relative error(%)']))\n",
    "print()\n",
    "print(np.average(data[data.texture == 160]['relative error(%)']))\n",
    "print(np.std(data[data.texture == 160]['relative error(%)']))\n",
    "print()\n",
    "print(np.average(data[data.texture == 200]['relative error(%)']))\n",
    "print(np.std(data[data.texture == 200]['relative error(%)']))\n",
    "print()\n",
    "print(np.average(data[data.texture == 250]['relative error(%)']))\n",
    "print(np.std(data[data.texture == 250]['relative error(%)']))\n",
    "print()"
   ]
  },
  {
   "cell_type": "code",
   "execution_count": null,
   "metadata": {},
   "outputs": [],
   "source": [
    "from sklearn.metrics import r2_score\n",
    "\n",
    "XX, YY = readXY(f'predict_{30}.csv')\n",
    "XX = undo_scale(XX,0.00265817,0.0009603592368511412)\n",
    "YY = undo_scale(YY, 0.00265817,0.0009603592368511412)\n",
    "\n",
    "print(r2_score(XX,YY))"
   ]
  }
 ],
 "metadata": {
  "kernelspec": {
   "display_name": "Marat_Arizona",
   "language": "python",
   "name": "python3"
  },
  "language_info": {
   "codemirror_mode": {
    "name": "ipython",
    "version": 3
   },
   "file_extension": ".py",
   "mimetype": "text/x-python",
   "name": "python",
   "nbconvert_exporter": "python",
   "pygments_lexer": "ipython3",
   "version": "3.8.18"
  }
 },
 "nbformat": 4,
 "nbformat_minor": 2
}
